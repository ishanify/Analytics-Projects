{
 "cells": [
  {
   "cell_type": "code",
   "execution_count": 5,
   "metadata": {},
   "outputs": [],
   "source": [
    "# importing libraries as needed for exploratory analysis and predictive analysis\n",
    "import pandas as pd"
   ]
  },
  {
   "cell_type": "markdown",
   "metadata": {},
   "source": [
    "Importing Customer churn data set into Data Frame and performing Exploratory Data Analysis"
   ]
  },
  {
   "cell_type": "code",
   "execution_count": 6,
   "metadata": {},
   "outputs": [
    {
     "name": "stdout",
     "output_type": "stream",
     "text": [
      "<class 'pandas.core.frame.DataFrame'>\n",
      "RangeIndex: 3333 entries, 0 to 3332\n",
      "Data columns (total 21 columns):\n",
      "State             3333 non-null object\n",
      "Account Length    3333 non-null int64\n",
      "Area Code         3333 non-null int64\n",
      "Phone             3333 non-null object\n",
      "Int'l Plan        3333 non-null object\n",
      "VMail Plan        3333 non-null object\n",
      "VMail Message     3333 non-null int64\n",
      "Day Mins          3333 non-null float64\n",
      "Day Calls         3333 non-null int64\n",
      "Day Charge        3333 non-null float64\n",
      "Eve Mins          3333 non-null float64\n",
      "Eve Calls         3333 non-null int64\n",
      "Eve Charge        3333 non-null float64\n",
      "Night Mins        3333 non-null float64\n",
      "Night Calls       3333 non-null int64\n",
      "Night Charge      3333 non-null float64\n",
      "Intl Mins         3333 non-null float64\n",
      "Intl Calls        3333 non-null int64\n",
      "Intl Charge       3333 non-null float64\n",
      "CustServ Calls    3333 non-null int64\n",
      "Churn?            3333 non-null object\n",
      "dtypes: float64(8), int64(8), object(5)\n",
      "memory usage: 546.9+ KB\n",
      "None\n"
     ]
    }
   ],
   "source": [
    "data = pd.read_csv('dataset/churn.csv')\n",
    "print(data.info())"
   ]
  },
  {
   "cell_type": "code",
   "execution_count": 4,
   "metadata": {},
   "outputs": [
    {
     "name": "stdout",
     "output_type": "stream",
     "text": [
      "<class 'pandas.core.frame.DataFrame'>\n",
      "RangeIndex: 3333 entries, 0 to 3332\n",
      "Data columns (total 21 columns):\n",
      "State             3333 non-null object\n",
      "Account Length    3333 non-null int64\n",
      "Area Code         3333 non-null int64\n",
      "Phone             3333 non-null object\n",
      "Int'l Plan        3333 non-null object\n",
      "VMail Plan        3333 non-null object\n",
      "VMail Message     3333 non-null int64\n",
      "Day Mins          3333 non-null float64\n",
      "Day Calls         3333 non-null int64\n",
      "Day Charge        3333 non-null float64\n",
      "Eve Mins          3333 non-null float64\n",
      "Eve Calls         3333 non-null int64\n",
      "Eve Charge        3333 non-null float64\n",
      "Night Mins        3333 non-null float64\n",
      "Night Calls       3333 non-null int64\n",
      "Night Charge      3333 non-null float64\n",
      "Intl Mins         3333 non-null float64\n",
      "Intl Calls        3333 non-null int64\n",
      "Intl Charge       3333 non-null float64\n",
      "CustServ Calls    3333 non-null int64\n",
      "Churn?            3333 non-null object\n",
      "dtypes: float64(8), int64(8), object(5)\n",
      "memory usage: 546.9+ KB\n",
      "None\n"
     ]
    }
   ],
   "source": []
  },
  {
   "cell_type": "code",
   "execution_count": null,
   "metadata": {},
   "outputs": [],
   "source": []
  }
 ],
 "metadata": {
  "kernelspec": {
   "display_name": "Python 3",
   "language": "python",
   "name": "python3"
  },
  "language_info": {
   "codemirror_mode": {
    "name": "ipython",
    "version": 3
   },
   "file_extension": ".py",
   "mimetype": "text/x-python",
   "name": "python",
   "nbconvert_exporter": "python",
   "pygments_lexer": "ipython3",
   "version": "3.7.3"
  }
 },
 "nbformat": 4,
 "nbformat_minor": 2
}
