{
 "cells": [
  {
   "cell_type": "code",
   "execution_count": 1,
   "metadata": {},
   "outputs": [],
   "source": [
    "setwd(\"~/Documents/Ryerson_Course/CMTH642/Assignment1\")\n",
    "\n",
    "macro_nut<-read.csv(\"USDA_Macronutrients.csv\", stringsAsFactors = F)\n",
    "micro_nut<-read.csv(\"USDA_Micronutrients.csv\", stringsAsFactors = F)"
   ]
  },
  {
   "cell_type": "markdown",
   "metadata": {},
   "source": [
    "#### Merge the data frames using the variable \"ID\"."
   ]
  },
  {
   "cell_type": "code",
   "execution_count": 4,
   "metadata": {},
   "outputs": [],
   "source": [
    "USDA<- merge(macro_nut,micro_nut,by=\"ID\")"
   ]
  },
  {
   "cell_type": "markdown",
   "metadata": {},
   "source": [
    "#### Clean data - check datatypes of the attributes, check format of records\n",
    "Delete the commas in the Sodium and Potasium records. Assign Sodium and Potasium as numeric data types.\n"
   ]
  },
  {
   "cell_type": "code",
   "execution_count": 5,
   "metadata": {},
   "outputs": [
    {
     "name": "stdout",
     "output_type": "stream",
     "text": [
      "'data.frame':\t7057 obs. of  15 variables:\n",
      " $ ID          : int  1001 1002 1003 1004 1005 1006 1007 1008 1009 1010 ...\n",
      " $ Description : chr  \"BUTTER,WITH SALT\" \"BUTTER,WHIPPED,WITH SALT\" \"BUTTER OIL,ANHYDROUS\" \"CHEESE,BLUE\" ...\n",
      " $ Calories    : int  717 717 876 353 371 334 300 376 403 387 ...\n",
      " $ Protein     : num  0.85 0.85 0.28 21.4 23.24 ...\n",
      " $ TotalFat    : num  81.1 81.1 99.5 28.7 29.7 ...\n",
      " $ Carbohydrate: num  0.06 0.06 0 2.34 2.79 0.45 0.46 3.06 1.28 4.78 ...\n",
      " $ Sodium      : chr  \"714\" \"827\" \"2\" \"1,395\" ...\n",
      " $ Cholesterol : int  215 219 256 75 94 100 72 93 105 103 ...\n",
      " $ Sugar       : num  0.06 0.06 0 0.5 0.51 0.45 0.46 NA 0.52 NA ...\n",
      " $ Calcium     : int  24 24 4 528 674 184 388 673 721 643 ...\n",
      " $ Iron        : num  0.02 0.16 0 0.31 0.43 0.5 0.33 0.64 0.68 0.21 ...\n",
      " $ Potassium   : chr  \"24\" \"26\" \"5\" \"256\" ...\n",
      " $ VitaminC    : num  0 0 0 0 0 0 0 0 0 0 ...\n",
      " $ VitaminE    : num  2.32 2.32 2.8 0.25 0.26 0.24 0.21 NA 0.29 NA ...\n",
      " $ VitaminD    : num  1.5 1.5 1.8 0.5 0.5 0.5 0.4 NA 0.6 NA ...\n"
     ]
    }
   ],
   "source": [
    "str(USDA)\n",
    "USDA$Sodium<-as.numeric(gsub('[,]','',USDA$Sodium))\n",
    "USDA$Potassium <- as.numeric( gsub('[,]','',USDA$Potassium))"
   ]
  },
  {
   "cell_type": "code",
   "execution_count": null,
   "metadata": {},
   "outputs": [],
   "source": []
  }
 ],
 "metadata": {
  "kernelspec": {
   "display_name": "R",
   "language": "R",
   "name": "ir"
  },
  "language_info": {
   "codemirror_mode": "r",
   "file_extension": ".r",
   "mimetype": "text/x-r-source",
   "name": "R",
   "pygments_lexer": "r",
   "version": "3.5.2"
  }
 },
 "nbformat": 4,
 "nbformat_minor": 2
}
